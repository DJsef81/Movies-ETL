{
 "cells": [
  {
   "cell_type": "code",
   "execution_count": null,
   "metadata": {},
   "outputs": [],
   "source": [
    "# 8.3.10 Parse the Box Office Data\n",
    "\n",
    "# Remember, there are two main forms the box office data is written in: \n",
    "# \"$123.4 million\" (or billion), and \"$123,456,789.\" \n",
    "\n",
    "# We're going to build a regular expression for each form, and then see what forms are left over.\n",
    "\n"
   ]
  },
  {
   "cell_type": "code",
   "execution_count": 1,
   "metadata": {},
   "outputs": [],
   "source": [
    "# Create the First Form\n",
    "\n",
    "# PLAN\n",
    "\n",
    "# For the first form, our pattern match string will include six elements in the following order:\n",
    "\n",
    "# 1. A dollar sign\n",
    "# 2. An arbitrary (but non-zero) number of digits\n",
    "# 3. An optional decimal point\n",
    "# 4. An arbitrary (but possibly zero) number of more digits\n",
    "# 5. A space (maybe more than one)\n",
    "# 6. The word \"million\" or \"billion\"\n",
    "\n",
    "# We'll translate those rules into a regular expression, step by step.\n"
   ]
  },
  {
   "cell_type": "code",
   "execution_count": null,
   "metadata": {},
   "outputs": [],
   "source": [
    "# Step 1: Start with a dollar sign.\n",
    "\n",
    "# The dollar sign is a special character in regular expressions, so we'll need to escape it.\n",
    "\n",
    "# \\$"
   ]
  },
  {
   "cell_type": "code",
   "execution_count": null,
   "metadata": {},
   "outputs": [],
   "source": [
    "# Step 2: Add an arbitrary (but non-zero) number of digits.\n",
    "\n",
    "# We'll add the \\d character to specify digits only, and the + modifier to capture one or more digits. \n",
    "# Our regular expression string now appears as:\n",
    "\n",
    "# \"\\$\\d+\".\n"
   ]
  },
  {
   "cell_type": "code",
   "execution_count": 3,
   "metadata": {},
   "outputs": [],
   "source": [
    "# Step 3: Add an optional decimal point.\n",
    "\n",
    "# Remember, the decimal point is a special character, so it needs to be escaped with a backslash. \n",
    "# Since the decimal point is optional, add a question mark modifier after it. \n",
    "# Our regular expression string now appears as:\n",
    "\n",
    "# \"\\$\\d+\\.?\".\n"
   ]
  },
  {
   "cell_type": "code",
   "execution_count": null,
   "metadata": {},
   "outputs": [],
   "source": [
    "# Step 4: Add an arbitrary (but possibly zero) number of more digits.\n",
    "\n",
    "# Once again, we'll use the \\d character to specify digits only, but now with the * modifier because there may be no \n",
    "# more digits after the decimal point. \n",
    "\n",
    "# Our regular expression string now appears as: \n",
    "\n",
    "# \"\\$\\d+\\.?\\d*\"."
   ]
  },
  {
   "cell_type": "code",
   "execution_count": null,
   "metadata": {},
   "outputs": [],
   "source": [
    "# Step 5: Add a space (maybe more than one).\n",
    "\n",
    "# Now we're going to use the \\s character to match whitespace characters. To be safe, we'll match any number of \n",
    "# whitespace characters with the * modifier. \n",
    "\n",
    "# Our regular expression string now appears as: \n",
    "\n",
    "# \"\\$\\d+\\.?\\d*\\s*\"."
   ]
  },
  {
   "cell_type": "code",
   "execution_count": null,
   "metadata": {},
   "outputs": [],
   "source": [
    "# Step 6: Add the word \"million\" or \"billion.\"\n",
    "\n",
    "# Since \"million\" and \"billion\" only differ by one letter, we can match it with a character set for the first letter. \n",
    "\n",
    "# We specify character sets with square brackets, so we'll add \"[mb]illion\" to the end of our string. \n",
    "# Our finished regular expression string now appears as:\n",
    "\n",
    "# \"\\$\\d+\\.?\\d*\\s*[mb]illion\".\n"
   ]
  },
  {
   "cell_type": "code",
   "execution_count": null,
   "metadata": {},
   "outputs": [],
   "source": [
    "# Create a variable form_one and set it equal to the finished regular expression string. \n",
    "# Because we need the escape characters to remain, we need to preface the string with an r.\n",
    "\n",
    "# form_one = r'\\$\\d+\\.?\\d*\\s*[mb]illion'"
   ]
  },
  {
   "cell_type": "code",
   "execution_count": null,
   "metadata": {},
   "outputs": [],
   "source": [
    "# Before moving on, a note about regex playgrounds. \n",
    "# Sites like https://regex101.com let you test your regex expressions on texts. \n",
    "\n",
    "# Try playing around with some of the examples that you have gone over. \n",
    "# You will find it helpful to use such a tool when writing regular expressions.\n"
   ]
  },
  {
   "cell_type": "code",
   "execution_count": null,
   "metadata": {},
   "outputs": [],
   "source": [
    "# You might be wondering if we're going to miss any box office values that have uppercase letters. \n",
    "# Don't worry—when we use the contains() method, we will specify an option to ignore case.\n",
    "\n"
   ]
  },
  {
   "cell_type": "code",
   "execution_count": null,
   "metadata": {},
   "outputs": [],
   "source": [
    "# INSPECT\n",
    "\n",
    "# Now, to count up how many box office values match our first form. We'll use the str.contains() method on box_office.\n",
    "\n",
    "# To ignore whether letters are uppercase or lowercase, add an argument called flags, and set it equal to \n",
    "# re.IGNORECASE. \n",
    "\n",
    "# Finally, we can call the sum()method to count up the total number that return True. \n",
    "\n",
    "# Your code should look like the following:\n",
    "\n",
    "# box_office.str.contains(form_one, flags=re.IGNORECASE).sum()"
   ]
  },
  {
   "cell_type": "code",
   "execution_count": null,
   "metadata": {},
   "outputs": [],
   "source": [
    "# Create the Second Form\n",
    "\n",
    "# PLAN\n",
    "\n",
    "# Next, we'll match the numbers of our second form, \"$123,456,789.\" \n",
    "# In words, our pattern match string will include the following elements:\n",
    "\n",
    "# 1. A dollar sign\n",
    "# 2. A group of one to three digits\n",
    "# 3. At least one group starting with a comma and followed by exactly three digits\n"
   ]
  },
  {
   "cell_type": "code",
   "execution_count": null,
   "metadata": {},
   "outputs": [],
   "source": [
    "# Step 1: Start with a dollar sign.\n",
    "\n",
    "# Once again, we need to escape the dollar sign for it to match. \n",
    "\n",
    "# Our regular expression string starts like this: \n",
    "\n",
    "# \"\\$\"."
   ]
  },
  {
   "cell_type": "code",
   "execution_count": null,
   "metadata": {},
   "outputs": [],
   "source": [
    "# Step 2: Add a group of one to three digits.\n",
    "\n",
    "# We'll use the \\d character for digits, but this time, we'll modify it with curly brackets to only match one through \n",
    "# three repetitions. \n",
    "\n",
    "# Our regular expression string now appears as:\n",
    "\n",
    "# \"\\$\\d{1,3}\".\n"
   ]
  },
  {
   "cell_type": "code",
   "execution_count": null,
   "metadata": {},
   "outputs": [],
   "source": [
    "# Step 3: Match at least one group starting with a comma and followed by exactly three digits.\n",
    "\n",
    "# To match a comma and exactly three digits, we'll use the string \",\\d{3}\". \n",
    "# To match any repetition of that group, we'll put it inside parentheses, and then put a plus sign after the \n",
    "# parentheses: \"(,\\d{3})+\". \n",
    "\n",
    "# We'll add one more modification to specify that this is a non-capturing group by inserting a question mark and \n",
    "# colon after the opening parenthesis: \"(?:,\\d{3})+\". \n",
    "\n",
    "# The use of a non-capturing group isn’t strictly necessary here, but it eliminates an unwanted warning message in \n",
    "# Jupyter Notebook. Our finished regular expression string now appears as:\n",
    "\n",
    "# \"\\$\\d{1,3}(?:,\\d{3})+\".\n",
    "\n"
   ]
  },
  {
   "cell_type": "code",
   "execution_count": null,
   "metadata": {},
   "outputs": [],
   "source": [
    "# Create another variable form_two and set it equal to the finished regular expression string. \n",
    "\n",
    "# Don't forget to make it a raw string so Python keeps the escaped characters.\n",
    "\n",
    "# count up the number of box office values that match this pattern. \n",
    "\n",
    "# Don't forget to put an r before the string and set the flags option to include re.IGNORECASE."
   ]
  },
  {
   "cell_type": "code",
   "execution_count": null,
   "metadata": {},
   "outputs": [],
   "source": [
    "# form_two = r'\\$\\d{1,3}(?:,\\d{3})+'\n",
    "# box_office.str.contains(form_two, flags=re.IGNORECASE).sum()\n"
   ]
  }
 ],
 "metadata": {
  "kernelspec": {
   "display_name": "Python 3",
   "language": "python",
   "name": "python3"
  },
  "language_info": {
   "codemirror_mode": {
    "name": "ipython",
    "version": 3
   },
   "file_extension": ".py",
   "mimetype": "text/x-python",
   "name": "python",
   "nbconvert_exporter": "python",
   "pygments_lexer": "ipython3",
   "version": "3.7.7"
  }
 },
 "nbformat": 4,
 "nbformat_minor": 4
}
